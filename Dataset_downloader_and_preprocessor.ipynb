{
 "cells": [
  {
   "cell_type": "code",
   "execution_count": null,
   "metadata": {
    "colab": {
     "base_uri": "https://localhost:8080/"
    },
    "id": "i3Udx-HHhSqM",
    "outputId": "580fbd02-15f2-4456-f070-417511029bc6"
   },
   "outputs": [
    {
     "name": "stdout",
     "output_type": "stream",
     "text": [
      "\u001b[2K     \u001b[90m━━━━━━━━━━━━━━━━━━━━━━━━━━━━━━━━━━━━━━━━\u001b[0m \u001b[32m172.1/172.1 kB\u001b[0m \u001b[31m4.5 MB/s\u001b[0m eta \u001b[36m0:00:00\u001b[0m\n",
      "\u001b[2K   \u001b[90m━━━━━━━━━━━━━━━━━━━━━━━━━━━━━━━━━━━━━━━━\u001b[0m \u001b[32m56.7/56.7 MB\u001b[0m \u001b[31m11.1 MB/s\u001b[0m eta \u001b[36m0:00:00\u001b[0m\n",
      "\u001b[2K   \u001b[90m━━━━━━━━━━━━━━━━━━━━━━━━━━━━━━━━━━━━━━━━\u001b[0m \u001b[32m319.8/319.8 kB\u001b[0m \u001b[31m12.1 MB/s\u001b[0m eta \u001b[36m0:00:00\u001b[0m\n",
      "\u001b[2K   \u001b[90m━━━━━━━━━━━━━━━━━━━━━━━━━━━━━━━━━━━━━━━━\u001b[0m \u001b[32m3.2/3.2 MB\u001b[0m \u001b[31m40.3 MB/s\u001b[0m eta \u001b[36m0:00:00\u001b[0m\n",
      "\u001b[2K   \u001b[90m━━━━━━━━━━━━━━━━━━━━━━━━━━━━━━━━━━━━━━━━\u001b[0m \u001b[32m94.7/94.7 kB\u001b[0m \u001b[31m3.6 MB/s\u001b[0m eta \u001b[36m0:00:00\u001b[0m\n",
      "\u001b[2K   \u001b[90m━━━━━━━━━━━━━━━━━━━━━━━━━━━━━━━━━━━━━━━━\u001b[0m \u001b[32m447.5/447.5 kB\u001b[0m \u001b[31m13.5 MB/s\u001b[0m eta \u001b[36m0:00:00\u001b[0m\n",
      "\u001b[2K   \u001b[90m━━━━━━━━━━━━━━━━━━━━━━━━━━━━━━━━━━━━━━━━\u001b[0m \u001b[32m11.0/11.0 MB\u001b[0m \u001b[31m30.2 MB/s\u001b[0m eta \u001b[36m0:00:00\u001b[0m\n",
      "\u001b[2K   \u001b[90m━━━━━━━━━━━━━━━━━━━━━━━━━━━━━━━━━━━━━━━━\u001b[0m \u001b[32m73.3/73.3 kB\u001b[0m \u001b[31m3.3 MB/s\u001b[0m eta \u001b[36m0:00:00\u001b[0m\n",
      "\u001b[2K   \u001b[90m━━━━━━━━━━━━━━━━━━━━━━━━━━━━━━━━━━━━━━━━\u001b[0m \u001b[32m63.7/63.7 kB\u001b[0m \u001b[31m3.2 MB/s\u001b[0m eta \u001b[36m0:00:00\u001b[0m\n",
      "\u001b[2K   \u001b[90m━━━━━━━━━━━━━━━━━━━━━━━━━━━━━━━━━━━━━━━━\u001b[0m \u001b[32m130.2/130.2 kB\u001b[0m \u001b[31m6.7 MB/s\u001b[0m eta \u001b[36m0:00:00\u001b[0m\n",
      "\u001b[?25h"
     ]
    }
   ],
   "source": [
    "!pip install -q gradio yt_dlp"
   ]
  },
  {
   "cell_type": "code",
   "execution_count": 37,
   "metadata": {
    "id": "PvRiIddMhaYt"
   },
   "outputs": [],
   "source": [
    "import gradio as gr\n",
    "import pandas as pd\n",
    "from yt_dlp import YoutubeDL\n",
    "import re\n",
    "import os\n",
    "from pathlib import Path\n",
    "from scipy.io import wavfile"
   ]
  },
  {
   "cell_type": "code",
   "execution_count": 42,
   "metadata": {
    "id": "hhEebQwTkMzf"
   },
   "outputs": [],
   "source": [
    "def handles_yt_link_id(link_id):\n",
    "    return re.search(r\"(?:(?:https).+youtu.be/|(?:https).+v=|^)([\\d\\w_]+)\", link_id).group(1)"
   ]
  },
  {
   "cell_type": "code",
   "execution_count": null,
   "metadata": {
    "id": "S51tFMRcmfj_"
   },
   "outputs": [],
   "source": [
    "download_path = Path(\"./data/download\")\n",
    "edited_path = Path(\"./data/edited\")\n",
    "ori_path = Path(os.path.join(edited_path, \"original\"))\n",
    "arr_path = Path(os.path.join(edited_path, \"arrangement\"))\n",
    "\n",
    "download_path.mkdir(parents=True, exist_ok=True)\n",
    "edited_path.mkdir(parents=True, exist_ok=True)\n",
    "ori_path.mkdir(parents=True, exist_ok=True)\n",
    "arr_path.mkdir(parents=True, exist_ok=True)\n"
   ]
  },
  {
   "cell_type": "code",
   "execution_count": 43,
   "metadata": {
    "id": "6YhorkOwNDQH"
   },
   "outputs": [],
   "source": [
    "def check_downloaded(yt_id, csv=\"./data/downloaded.csv\"):\n",
    "    if os.path.exists(csv):\n",
    "        df = pd.read_csv(csv)\n",
    "        return yt_id in df[\"id\"].values\n",
    "    else:\n",
    "        return False\n"
   ]
  },
  {
   "cell_type": "code",
   "execution_count": 44,
   "metadata": {
    "id": "B2Nx734bNdqW"
   },
   "outputs": [],
   "source": [
    "def save_downloaded(yt_id, ext, csv=\"./data/downloaded.csv\"):\n",
    "    if os.path.exists(csv):\n",
    "        df = pd.read_csv(csv)\n",
    "        if yt_id not in df[\"id\"].values:\n",
    "            df = pd.concat([df, pd.DataFrame({\"id\": [yt_id], \"ext\": [ext]})], ignore_index=True)\n",
    "    else:\n",
    "        df = pd.DataFrame({\"id\": [yt_id], \"ext\": [ext]})\n",
    "\n",
    "    df.to_csv(csv, index=False)"
   ]
  },
  {
   "cell_type": "code",
   "execution_count": null,
   "metadata": {
    "id": "9ze_QrQFqKtG"
   },
   "outputs": [],
   "source": [
    "def download_audio(yt_id, ext=\"mp3\"):\n",
    "    ydl_opts = {\n",
    "        'format': 'bestaudio/best',\n",
    "        'postprocessors': [{\n",
    "            'key': 'FFmpegExtractAudio',\n",
    "            'preferredcodec': ext,\n",
    "            'preferredquality': '192',\n",
    "        }],\n",
    "        'outtmpl': os.path.join(download_path, f'{yt_id}.%(ext)s')\n",
    "    }\n",
    "    with YoutubeDL(ydl_opts) as ydl:\n",
    "        ydl.download([f'https://www.youtube.com/watch?v={yt_id}'])\n",
    "\n",
    "    return os.path.join(download_path, f'{yt_id}.{ext}')"
   ]
  },
  {
   "cell_type": "code",
   "execution_count": 56,
   "metadata": {
    "id": "aWNSsPMEpG--"
   },
   "outputs": [],
   "source": [
    "def download(original_link, arrangement_link, original_ext=\"mp3\", arrangement_ext=\"mp3\"):\n",
    "    original_id = handles_yt_link_id(original_link)\n",
    "    arrangement_id = handles_yt_link_id(arrangement_link)\n",
    "\n",
    "    if not check_downloaded(original_id):\n",
    "        print(f\"Downloading original audio ID:{original_id}\")\n",
    "        original_audio_path = download_audio(original_id, original_ext)\n",
    "        save_downloaded(original_id, original_ext)\n",
    "    else:\n",
    "        print(f\"Original audio already downloaded ID:{original_id}\")\n",
    "        original_audio_path = os.path.join(download_path, f'{original_id}.{original_ext}')\n",
    "\n",
    "    if not check_downloaded(arrangement_id):\n",
    "        print(f\"Downloading arrangement audio ID:{arrangement_id}\")\n",
    "        arrangement_audio_path = download_audio(arrangement_id, arrangement_ext)\n",
    "        save_downloaded(arrangement_id, arrangement_ext)\n",
    "    else:\n",
    "        print(f\"Arrangement audio already downloaded ID:{arrangement_id}\")\n",
    "        arrangement_audio_path = os.path.join(download_path, f'{arrangement_id}.{arrangement_ext}')\n",
    "\n",
    "    return original_id, arrangement_id, original_audio_path, arrangement_audio_path"
   ]
  },
  {
   "cell_type": "code",
   "execution_count": 53,
   "metadata": {
    "id": "dzl5XfEMGC3O"
   },
   "outputs": [],
   "source": [
    "def min_text_to_sec(min_text):\n",
    "    if \":\" not in min_text:\n",
    "        return float(min_text)\n",
    "\n",
    "    min, sec = min_text.split(\":\")\n",
    "    return int(min) * 60 + float(sec)"
   ]
  },
  {
   "cell_type": "code",
   "execution_count": 57,
   "metadata": {
    "id": "4_G2Tz6OlFw6"
   },
   "outputs": [],
   "source": [
    "def trim_audio(audio, start, end):\n",
    "    print(\"Trimming audio\")\n",
    "    sr, arr = audio\n",
    "    arr = arr[int(min_text_to_sec(start) * sr):int(min_text_to_sec(end) * sr)]\n",
    "    return (sr, arr)"
   ]
  },
  {
   "cell_type": "code",
   "execution_count": 46,
   "metadata": {
    "id": "OHCgaOfPRtG9"
   },
   "outputs": [],
   "source": [
    "def save_pair(ori_name, arr_name, csv=\"./data/edited/pairs.csv\"):\n",
    "    if os.path.exists(csv):\n",
    "        df = pd.read_csv(csv)\n",
    "        if arr_name not in df[\"arr_name\"].values:\n",
    "            df = pd.concat([df, pd.DataFrame({\"ori_name\": [ori_name], \"arr_name\": [arr_name]})], ignore_index=True)\n",
    "        else:\n",
    "            # change the original\n",
    "            df.loc[df[\"arr_name\"] == arr_name, \"ori_name\"] = ori_name\n",
    "    else:\n",
    "        df = pd.DataFrame({\"ori_name\": [ori_name], \"arr_name\": [arr_name]})\n",
    "    df.to_csv(csv, index=False)"
   ]
  },
  {
   "cell_type": "code",
   "execution_count": 58,
   "metadata": {
    "id": "aCCsQs1lJaAL"
   },
   "outputs": [],
   "source": [
    "def save(original_id, arrangement_id, original_audio, arrangement_audio, original_ext=\"mp3\", arrangement_ext=\"mp3\"):\n",
    "    print(\"Saving\")\n",
    "    ori_sr, ori_arr = original_audio\n",
    "    arr_sr, arr_arr = arrangement_audio\n",
    "\n",
    "    save_pair(original_id, arrangement_id)\n",
    "\n",
    "    wavfile.write(os.path.join(ori_path, f'{original_id}.{original_ext}'), ori_sr, ori_arr)\n",
    "    wavfile.write(os.path.join(arr_path, f'{arrangement_id}.{arrangement_ext}'), arr_sr, arr_arr)"
   ]
  },
  {
   "cell_type": "code",
   "execution_count": 59,
   "metadata": {
    "id": "ycz3gTkRhnML"
   },
   "outputs": [],
   "source": [
    "with gr.Blocks() as app:\n",
    "    gr.Markdown(\"# Dataset downloader and preprocessor\")\n",
    "\n",
    "    with gr.Row():\n",
    "        with gr.Column():\n",
    "            original_link = gr.Textbox(label=\"Original link/id\")\n",
    "            original_id = gr.Textbox(label=\"Original id\", interactive=False)\n",
    "\n",
    "\n",
    "        with gr.Column():\n",
    "          arrangement_link = gr.Textbox(label=\"Arrangement link/id\")\n",
    "          arrangement_id = gr.Textbox(label=\"Arrangement id\", interactive=False)\n",
    "\n",
    "    download_button = gr.Button(\"Download\")\n",
    "\n",
    "    with gr.Row():\n",
    "        with gr.Column():\n",
    "            original_audio = gr.Audio(label=\"Original audio\", interactive=False)\n",
    "\n",
    "            with gr.Row():\n",
    "                original_start = gr.Textbox(label=\"Original start\")\n",
    "                original_end = gr.Textbox(label=\"Original end\")\n",
    "\n",
    "            original_trim_button = gr.Button(\"Trim\")\n",
    "\n",
    "            original_trim_button.click(trim_audio, inputs=[original_audio, original_start, original_end], outputs=[original_audio])\n",
    "\n",
    "\n",
    "        with gr.Column():\n",
    "            arrangement_audio = gr.Audio(label=\"Arrangement audio\", interactive=False)\n",
    "\n",
    "            with gr.Row():\n",
    "                arrangement_start = gr.Textbox(label=\"Arrangement start\")\n",
    "                arrangement_end = gr.Textbox(label=\"Arrangement end\")\n",
    "\n",
    "            arrangement_trim_button = gr.Button(\"Trim\")\n",
    "\n",
    "            arrangement_trim_button.click(trim_audio, inputs=[arrangement_audio, arrangement_start, arrangement_end], outputs=[arrangement_audio])\n",
    "\n",
    "    download_button.click(download, inputs=[original_link, arrangement_link], outputs=[original_id, arrangement_id, original_audio, arrangement_audio])\n",
    "\n",
    "    save_button = gr.Button(\"Save\")\n",
    "\n",
    "    save_button.click(save, inputs=[original_id, arrangement_id, original_audio, arrangement_audio])"
   ]
  },
  {
   "cell_type": "code",
   "execution_count": 49,
   "metadata": {
    "id": "8aeLYchmQNCn"
   },
   "outputs": [],
   "source": [
    "# https://www.youtube.com/watch?v=L13gCEZJVRU\n",
    "# https://www.youtube.com/watch?v=NW370z0Icls"
   ]
  },
  {
   "cell_type": "code",
   "execution_count": 60,
   "metadata": {
    "colab": {
     "base_uri": "https://localhost:8080/",
     "height": 680
    },
    "id": "1o5N1xaIifAg",
    "outputId": "963715cf-8903-4dc9-affc-d67947ab9369"
   },
   "outputs": [
    {
     "name": "stdout",
     "output_type": "stream",
     "text": [
      "Running Gradio in a Colab notebook requires sharing enabled. Automatically setting `share=True` (you can turn this off by setting `share=False` in `launch()` explicitly).\n",
      "\n",
      "Colab notebook detected. This cell will run indefinitely so that you can see errors and logs. To turn off, set debug=False in launch().\n",
      "* Running on public URL: https://0085bb620bc075d7f1.gradio.live\n",
      "\n",
      "This share link expires in 72 hours. For free permanent hosting and GPU upgrades, run `gradio deploy` from the terminal in the working directory to deploy to Hugging Face Spaces (https://huggingface.co/spaces)\n"
     ]
    },
    {
     "data": {
      "text/html": [
       "<div><iframe src=\"https://0085bb620bc075d7f1.gradio.live\" width=\"100%\" height=\"500\" allow=\"autoplay; camera; microphone; clipboard-read; clipboard-write;\" frameborder=\"0\" allowfullscreen></iframe></div>"
      ],
      "text/plain": [
       "<IPython.core.display.HTML object>"
      ]
     },
     "metadata": {},
     "output_type": "display_data"
    },
    {
     "name": "stdout",
     "output_type": "stream",
     "text": [
      "Keyboard interruption in main thread... closing server.\n",
      "Killing tunnel 127.0.0.1:7860 <> https://0085bb620bc075d7f1.gradio.live\n"
     ]
    },
    {
     "data": {
      "text/plain": []
     },
     "execution_count": 60,
     "metadata": {},
     "output_type": "execute_result"
    }
   ],
   "source": [
    " app.launch(True, debug=True)"
   ]
  },
  {
   "cell_type": "code",
   "execution_count": null,
   "metadata": {
    "colab": {
     "base_uri": "https://localhost:8080/"
    },
    "id": "PCm-7L6Vje0s",
    "outputId": "2ac1672b-5aed-4fbd-8eff-5a41a2e927df"
   },
   "outputs": [
    {
     "name": "stdout",
     "output_type": "stream",
     "text": [
      "Closing server running on port: 7860\n"
     ]
    }
   ],
   "source": [
    "app.close()"
   ]
  },
  {
   "cell_type": "code",
   "execution_count": null,
   "metadata": {
    "id": "8TNORbmDn9JD"
   },
   "outputs": [],
   "source": []
  }
 ],
 "metadata": {
  "colab": {
   "provenance": []
  },
  "kernelspec": {
   "display_name": "keras",
   "language": "python",
   "name": "keras"
  },
  "language_info": {
   "name": "python",
   "version": "3.11.7"
  }
 },
 "nbformat": 4,
 "nbformat_minor": 0
}
