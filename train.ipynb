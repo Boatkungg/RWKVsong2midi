{
 "cells": [
  {
   "cell_type": "code",
   "execution_count": 1,
   "metadata": {},
   "outputs": [],
   "source": [
    "import torch\n",
    "from torch import nn\n",
    "from transformers import RwkvConfig, RwkvModel"
   ]
  },
  {
   "cell_type": "code",
   "execution_count": 2,
   "metadata": {},
   "outputs": [
    {
     "name": "stderr",
     "output_type": "stream",
     "text": [
      "/home/bk/miniconda3/envs/keras/lib/python3.11/site-packages/torch/utils/cpp_extension.py:1967: UserWarning: TORCH_CUDA_ARCH_LIST is not set, all archs for visible cards are included for compilation. \n",
      "If this is not desired, please set os.environ['TORCH_CUDA_ARCH_LIST'].\n",
      "  warnings.warn(\n"
     ]
    },
    {
     "data": {
      "text/plain": [
       "RwkvModel(\n",
       "  (embeddings): Embedding(50277, 768)\n",
       "  (blocks): ModuleList(\n",
       "    (0): RwkvBlock(\n",
       "      (pre_ln): LayerNorm((768,), eps=1e-05, elementwise_affine=True)\n",
       "      (ln1): LayerNorm((768,), eps=1e-05, elementwise_affine=True)\n",
       "      (ln2): LayerNorm((768,), eps=1e-05, elementwise_affine=True)\n",
       "      (attention): RwkvSelfAttention(\n",
       "        (time_shift): ZeroPad2d((0, 0, 1, -1))\n",
       "        (key): Linear(in_features=768, out_features=768, bias=False)\n",
       "        (value): Linear(in_features=768, out_features=768, bias=False)\n",
       "        (receptance): Linear(in_features=768, out_features=768, bias=False)\n",
       "        (output): Linear(in_features=768, out_features=768, bias=False)\n",
       "      )\n",
       "      (feed_forward): RwkvFeedForward(\n",
       "        (time_shift): ZeroPad2d((0, 0, 1, -1))\n",
       "        (key): Linear(in_features=768, out_features=3072, bias=False)\n",
       "        (receptance): Linear(in_features=768, out_features=768, bias=False)\n",
       "        (value): Linear(in_features=3072, out_features=768, bias=False)\n",
       "      )\n",
       "    )\n",
       "    (1-11): 11 x RwkvBlock(\n",
       "      (ln1): LayerNorm((768,), eps=1e-05, elementwise_affine=True)\n",
       "      (ln2): LayerNorm((768,), eps=1e-05, elementwise_affine=True)\n",
       "      (attention): RwkvSelfAttention(\n",
       "        (time_shift): ZeroPad2d((0, 0, 1, -1))\n",
       "        (key): Linear(in_features=768, out_features=768, bias=False)\n",
       "        (value): Linear(in_features=768, out_features=768, bias=False)\n",
       "        (receptance): Linear(in_features=768, out_features=768, bias=False)\n",
       "        (output): Linear(in_features=768, out_features=768, bias=False)\n",
       "      )\n",
       "      (feed_forward): RwkvFeedForward(\n",
       "        (time_shift): ZeroPad2d((0, 0, 1, -1))\n",
       "        (key): Linear(in_features=768, out_features=3072, bias=False)\n",
       "        (receptance): Linear(in_features=768, out_features=768, bias=False)\n",
       "        (value): Linear(in_features=3072, out_features=768, bias=False)\n",
       "      )\n",
       "    )\n",
       "  )\n",
       "  (ln_out): LayerNorm((768,), eps=1e-05, elementwise_affine=True)\n",
       ")"
      ]
     },
     "execution_count": 2,
     "metadata": {},
     "output_type": "execute_result"
    }
   ],
   "source": [
    "# Define the configuration for the RWKV model\n",
    "config = RwkvConfig(hidden_size=768, num_hidden_layers=12)\n",
    "\n",
    "# Initialize the RWKV model with the configuration\n",
    "model = RwkvModel(config).half()\n",
    "model.to('cuda')"
   ]
  },
  {
   "cell_type": "code",
   "execution_count": 3,
   "metadata": {},
   "outputs": [
    {
     "name": "stdout",
     "output_type": "stream",
     "text": [
      "RwkvOutput(last_hidden_state=tensor([[[-6.8848e-01,  1.5186e-01, -9.9707e-01,  ..., -1.4785e+00,\n",
      "          -1.8301e+00, -1.0146e+00],\n",
      "         [-6.9482e-01,  2.4768e-01, -8.9502e-01,  ..., -8.9746e-01,\n",
      "          -8.5986e-01,  7.1582e-01],\n",
      "         [-1.3105e+00,  1.4561e+00, -7.9736e-01,  ...,  5.8643e-01,\n",
      "          -1.2842e+00, -4.1699e-04],\n",
      "         ...,\n",
      "         [-7.2363e-01, -1.4600e+00,  1.2168e+00,  ..., -5.6104e-01,\n",
      "           2.4063e-02,  1.4707e+00],\n",
      "         [-7.0898e-01,  1.9219e+00,  2.0898e+00,  ..., -1.1143e+00,\n",
      "           1.9688e+00, -1.1298e-01],\n",
      "         [-1.0332e+00, -7.2656e-01, -3.8306e-01,  ..., -1.9756e+00,\n",
      "          -6.4941e-01,  6.0986e-01]]], device='cuda:0', dtype=torch.float16,\n",
      "       grad_fn=<NativeLayerNormBackward0>), state=None, hidden_states=None, attentions=None)\n"
     ]
    }
   ],
   "source": [
    "# Create a 16K array\n",
    "input_array = torch.randint(0, 50256, (1, 1024)).to('cuda')\n",
    "\n",
    "# Pass the array through the model\n",
    "output = model(input_array)\n",
    "\n",
    "print(output)"
   ]
  },
  {
   "cell_type": "code",
   "execution_count": null,
   "metadata": {},
   "outputs": [],
   "source": []
  }
 ],
 "metadata": {
  "kernelspec": {
   "display_name": "keras",
   "language": "python",
   "name": "keras"
  },
  "language_info": {
   "codemirror_mode": {
    "name": "ipython",
    "version": 3
   },
   "file_extension": ".py",
   "mimetype": "text/x-python",
   "name": "python",
   "nbconvert_exporter": "python",
   "pygments_lexer": "ipython3",
   "version": "3.11.7"
  }
 },
 "nbformat": 4,
 "nbformat_minor": 2
}
